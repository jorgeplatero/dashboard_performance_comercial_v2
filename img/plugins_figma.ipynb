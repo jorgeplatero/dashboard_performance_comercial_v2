{
 "cells": [
  {
   "cell_type": "markdown",
   "id": "eac7ffa4",
   "metadata": {},
   "source": [
    "# Plugins Figma"
   ]
  },
  {
   "cell_type": "markdown",
   "id": "555b2544",
   "metadata": {},
   "source": [
    "- Image Palette​: gera paleta de cores  \n",
    "- Font Preview: pré visualiza fontes \n",
    "- Split Shape: divisor de formas\n",
    "- Clay Mockups 3D​ e Artboard Studio Mockups: Mockups 3D\n",
    "- Unsplash e Pexels: imagens\n",
    "- Blush, Humaaans for Figma​ e Stooryset by Freepi: ilustrações\n",
    "- Avatar, UserProfile: fotos de pessoas\n",
    "- Image Tracer: vetoriza elemento\n",
    "- Remove Bg: remove de fundo\n",
    "- neumorphism: gera efeito de relevo\n",
    "- Morph: tranformações diversas\n",
    "- UiGradients e WebGradients: gradientes"
   ]
  },
  {
   "cell_type": "markdown",
   "id": "0002c993",
   "metadata": {},
   "source": [
    "# Setas e Símbolos\n",
    "\n",
    "https://symbl.cc/pt/collections/arrow-symbols/"
   ]
  },
  {
   "cell_type": "markdown",
   "id": "dd318ae2",
   "metadata": {},
   "source": [
    "# Animações\n",
    "\n",
    "https://animista.net/"
   ]
  }
 ],
 "metadata": {
  "kernelspec": {
   "display_name": "Python 3",
   "language": "python",
   "name": "python3"
  },
  "language_info": {
   "codemirror_mode": {
    "name": "ipython",
    "version": 3
   },
   "file_extension": ".py",
   "mimetype": "text/x-python",
   "name": "python",
   "nbconvert_exporter": "python",
   "pygments_lexer": "ipython3",
   "version": "3.13.2"
  }
 },
 "nbformat": 4,
 "nbformat_minor": 5
}
